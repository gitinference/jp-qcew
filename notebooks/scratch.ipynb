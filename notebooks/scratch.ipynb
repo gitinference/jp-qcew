{
 "cells": [
  {
   "cell_type": "code",
   "execution_count": null,
   "id": "a75d6786",
   "metadata": {},
   "outputs": [],
   "source": [
    "import os\n",
    "os.chdir(\"..\")"
   ]
  },
  {
   "cell_type": "code",
   "execution_count": null,
   "id": "4a9b2e7a",
   "metadata": {},
   "outputs": [],
   "source": [
    "from src.data.data_process import cleanData\n",
    "import polars as pl\n",
    "import json\n",
    "cd = cleanData()"
   ]
  },
  {
   "cell_type": "code",
   "execution_count": null,
   "id": "fb64c943",
   "metadata": {},
   "outputs": [],
   "source": [
    "decode_file = json.load(open(\"data/external/decode.json\", \"r\"))"
   ]
  },
  {
   "cell_type": "code",
   "execution_count": null,
   "id": "b48297ec",
   "metadata": {},
   "outputs": [],
   "source": [
    "df = pl.read_csv(\n",
    "    \"data/qcew/2002/022.EQUI.QTR.txt\",\n",
    "    separator=\"\\n\",\n",
    "    has_header=False,\n",
    "    encoding=\"latin1\",\n",
    "    new_columns=[\"full_str\"],\n",
    "    # ignore_errors=True\n",
    ")\n",
    "df"
   ]
  }
 ],
 "metadata": {
  "kernelspec": {
   "display_name": ".venv",
   "language": "python",
   "name": "python3"
  },
  "language_info": {
   "codemirror_mode": {
    "name": "ipython",
    "version": 3
   },
   "file_extension": ".py",
   "mimetype": "text/x-python",
   "name": "python",
   "nbconvert_exporter": "python",
   "pygments_lexer": "ipython3",
   "version": "3.12.12"
  }
 },
 "nbformat": 4,
 "nbformat_minor": 5
}
